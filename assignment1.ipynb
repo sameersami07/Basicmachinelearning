{
  "nbformat": 4,
  "nbformat_minor": 0,
  "metadata": {
    "colab": {
      "provenance": [],
      "authorship_tag": "ABX9TyO11l0wrxG7XsaoqlE8+E7q"
    },
    "kernelspec": {
      "name": "python3",
      "display_name": "Python 3"
    },
    "language_info": {
      "name": "python"
    }
  },
  "cells": [
    {
      "cell_type": "markdown",
      "source": [
        " # 1.Perform arithmetic operations on NumPy arrays.\n"
      ],
      "metadata": {
        "id": "SojmNWUTBw1g"
      }
    },
    {
      "cell_type": "code",
      "source": [
        "import numpy as np\n",
        "a = np.array([1, 2, 3, 4])\n",
        "b = np.array([5, 6, 7, 8])\n",
        "result_add=a+b\n",
        "result_sub=a-b\n",
        "result_mul=a*b\n",
        "result_div=a/b\n",
        "result_pow=a**b\n",
        "result_mod=a%b\n",
        "print(\"addition :\",result_add)\n",
        "print(\"subtract :\",result_sub)\n",
        "print(\"multiplication :\",result_mul)\n",
        "print(\"division :\",result_div)\n",
        "print(\"power :\",result_pow)\n",
        "print(\"modulus: \",result_mod)\n"
      ],
      "metadata": {
        "colab": {
          "base_uri": "https://localhost:8080/"
        },
        "id": "Rducrm4MB3BB",
        "outputId": "35ea5600-2426-4f4a-ac49-4621a22be53c"
      },
      "execution_count": 4,
      "outputs": [
        {
          "output_type": "stream",
          "name": "stdout",
          "text": [
            "addition : [ 6  8 10 12]\n",
            "subtract : [-4 -4 -4 -4]\n",
            "multiplication : [ 5 12 21 32]\n",
            "division : [0.2        0.33333333 0.42857143 0.5       ]\n",
            "power : [    1    64  2187 65536]\n",
            "modulus:  [1 2 3 4]\n"
          ]
        }
      ]
    },
    {
      "cell_type": "markdown",
      "source": [
        " # 2.Write a script to compute the mean and standard deviation of a NumPy array"
      ],
      "metadata": {
        "id": "ZUrlTgIOEQzm"
      }
    },
    {
      "cell_type": "code",
      "source": [
        "a = np.array([10, 20, 30, 40, 50])\n",
        "mean_ = np.mean(a)\n",
        "print(\"Mean:\", mean_)\n",
        "std_dev = np.std(a)\n",
        "print(\"Standard Deviation:\", std_dev)\n"
      ],
      "metadata": {
        "colab": {
          "base_uri": "https://localhost:8080/"
        },
        "id": "3ApVvd_pEdwK",
        "outputId": "6066bfb7-ed46-46d0-c280-300fb9968853"
      },
      "execution_count": 6,
      "outputs": [
        {
          "output_type": "stream",
          "name": "stdout",
          "text": [
            "Mean: 30.0\n",
            "Standard Deviation: 14.142135623730951\n"
          ]
        }
      ]
    },
    {
      "cell_type": "markdown",
      "source": [
        "# 3.Create a NumPy array of integers from 10 to 50 with a step size of 5."
      ],
      "metadata": {
        "id": "jtcKsV5tFRC1"
      }
    },
    {
      "cell_type": "code",
      "source": [
        "a=np.arange(10,51,5)\n",
        "print(a)"
      ],
      "metadata": {
        "colab": {
          "base_uri": "https://localhost:8080/"
        },
        "id": "RTt2BUC5Fbv8",
        "outputId": "2d131271-c813-448a-91c1-b149a3309630"
      },
      "execution_count": 7,
      "outputs": [
        {
          "output_type": "stream",
          "name": "stdout",
          "text": [
            "[10 15 20 25 30 35 40 45 50]\n"
          ]
        }
      ]
    },
    {
      "cell_type": "markdown",
      "source": [
        " # 4.Reshape the array into a 2x4 matrix."
      ],
      "metadata": {
        "id": "-QeRCtGjGC2k"
      }
    },
    {
      "cell_type": "code",
      "source": [
        "a=np.arange(10,51,5)\n",
        "reshaped_array = a[0:8].reshape(2, 4)  # Use the first 8 elements\n",
        "print(\"Reshaped Array (2x4):\" ,reshaped_array)"
      ],
      "metadata": {
        "colab": {
          "base_uri": "https://localhost:8080/"
        },
        "id": "Kf9tUp1JGH34",
        "outputId": "62e115c4-2b6d-454d-891c-9ecc56084bf5"
      },
      "execution_count": 11,
      "outputs": [
        {
          "output_type": "stream",
          "name": "stdout",
          "text": [
            "Reshaped Array (2x4): [[10 15 20 25]\n",
            " [30 35 40 45]]\n"
          ]
        }
      ]
    },
    {
      "cell_type": "markdown",
      "source": [
        "# 5. Given the array arr = np.array([[1, 2, 3], [4, 5, 6], [7, 8, 9]]):\n",
        "• Extract the sub-matrix containing the last two rows and first two columns.\n",
        "\n",
        "• Replace all elements greater than 4 with 0."
      ],
      "metadata": {
        "id": "Jb35leS-HLy1"
      }
    },
    {
      "cell_type": "code",
      "source": [
        "arr=np.array([[1,2,3],[4,5,6],[7,8,9]])\n",
        "sub_matrix=arr[1:,:2]\n",
        "print(\"submatrix:\",sub_matrix)\n",
        "arr[arr>4]=0\n",
        "print(\"replaced matrix: \",arr)"
      ],
      "metadata": {
        "colab": {
          "base_uri": "https://localhost:8080/"
        },
        "id": "OThyycyZHVfY",
        "outputId": "d48daad8-cf33-4a33-b362-fce16354bb0a"
      },
      "execution_count": 20,
      "outputs": [
        {
          "output_type": "stream",
          "name": "stdout",
          "text": [
            "submatrix: [[4 5]\n",
            " [7 8]]\n",
            "replaced matrix:  [[1 2 3]\n",
            " [4 0 0]\n",
            " [0 0 0]]\n"
          ]
        }
      ]
    },
    {
      "cell_type": "markdown",
      "source": [
        "# 6.Create two 1D arrays:\n",
        "• a = np.array([1, 2, 3])\n",
        "\n",
        "• b = np.array([4, 5, 6])\n",
        "\n",
        "• Perform element-wise addition, multiplication, and division."
      ],
      "metadata": {
        "id": "1POtpsg5L-ld"
      }
    },
    {
      "cell_type": "code",
      "source": [
        "a = np.array([1, 2, 3])\n",
        "b = np.array([4, 5, 6])\n",
        "addition = a + b\n",
        "print(\"Element-wise Addition:\", addition)\n",
        "multiplication = a * b\n",
        "print(\"Element-wise Multiplication:\", multiplication)\n",
        "division = a / b\n",
        "print(\"Element-wise Division:\", division)\n"
      ],
      "metadata": {
        "colab": {
          "base_uri": "https://localhost:8080/"
        },
        "id": "7vgEU09lME93",
        "outputId": "6223b895-cb37-49ed-e845-6e2898d38baa"
      },
      "execution_count": 21,
      "outputs": [
        {
          "output_type": "stream",
          "name": "stdout",
          "text": [
            "Element-wise Addition: [5 7 9]\n",
            "Element-wise Multiplication: [ 4 10 18]\n",
            "Element-wise Division: [0.25 0.4  0.5 ]\n"
          ]
        }
      ]
    },
    {
      "cell_type": "markdown",
      "source": [
        "# 7.Create a random NumPy array of size (4, 4). Compute:\n",
        "\n",
        "• Mean of each column.\n",
        "\n",
        "• Maximum value of the entire array.\n",
        "\n",
        "• Sum of all elements."
      ],
      "metadata": {
        "id": "t7JwO6b4MdxB"
      }
    },
    {
      "cell_type": "code",
      "source": [
        "array=np.random.rand(4,4)\n",
        "print(\"random numpyarray: \",array)\n",
        "mean_col=np.mean(array,axis=0)\n",
        "print(\"mean_column: \",mean_col)\n",
        "max_value=np.max(array)\n",
        "print(\"maximum value: \",max_value)\n",
        "sum_all=np.sum(array)\n",
        "print(\"sum of all elements:\",sum_all)\n"
      ],
      "metadata": {
        "colab": {
          "base_uri": "https://localhost:8080/"
        },
        "id": "cLXvYbmWMo-e",
        "outputId": "a3a23588-09d9-4170-c459-494da4c2e01a"
      },
      "execution_count": 43,
      "outputs": [
        {
          "output_type": "stream",
          "name": "stdout",
          "text": [
            "random numpyarray:  [[0.29571501 0.45788999 0.00802737 0.49997316]\n",
            " [0.59182493 0.33145829 0.25481705 0.55196535]\n",
            " [0.15630978 0.17190585 0.86592642 0.05844876]\n",
            " [0.20574189 0.43306274 0.77038091 0.84368904]]\n",
            "mean_column:  [0.3123979  0.34857922 0.47478794 0.48851907]\n",
            "maximum value:  0.8659264242951824\n",
            "sum of all elements: 6.497136537126158\n"
          ]
        }
      ]
    },
    {
      "cell_type": "markdown",
      "source": [
        "# 8. Given the array arr = np.array([1, 2, 3, 4]), add 10 to each element and multiply the result by 2."
      ],
      "metadata": {
        "id": "KVc73RyLPTEs"
      }
    },
    {
      "cell_type": "code",
      "source": [
        "arr=np.array([1,2,3,4])\n",
        "result=(arr+10)*2\n",
        "print(result)"
      ],
      "metadata": {
        "colab": {
          "base_uri": "https://localhost:8080/"
        },
        "id": "jKT1Q8sfPSaC",
        "outputId": "ce9dd32e-b065-4edb-861f-5922fbc341cb"
      },
      "execution_count": 30,
      "outputs": [
        {
          "output_type": "stream",
          "name": "stdout",
          "text": [
            "[22 24 26 28]\n"
          ]
        }
      ]
    },
    {
      "cell_type": "markdown",
      "source": [
        "# 9. Perform advanced slicing and indexing on a 3D array.\n",
        "Create a 3D NumPy array arr of shape (3, 4, 5) with random integers ranging from\n",
        "1 to 100. Perform the following:\n",
        "\n",
        "• Extract the second \"layer\" (i.e., the second 2D array) in the first dimension.\n",
        "\n",
        "• Extract the first two rows and the last three columns from each \"layer.\"\n",
        "\n",
        "• Replace all elements divisible by 3 with -1."
      ],
      "metadata": {
        "id": "rPfMAm1UQHVB"
      }
    },
    {
      "cell_type": "code",
      "source": [
        "arr = np.random.randint(1, 101, size=(3, 4, 5))\n",
        "print(\"Original 3D Array:\",arr)\n",
        "sec_lay=arr[1]\n",
        "print(\"\\nsecond layer: \",sec_lay)\n",
        "extracted_data = arr[:, :2, 2:]\n",
        "print(\"\\nFirst two rows and last three columns from each layer:\")\n",
        "print(extracted_data)\n",
        "arr[arr % 3==0]=-1\n",
        "print(\"\\n replaced array :\",arr)"
      ],
      "metadata": {
        "colab": {
          "base_uri": "https://localhost:8080/"
        },
        "id": "VnfZzqytQSLm",
        "outputId": "aeee6ef1-647e-4a4a-e3bf-027275092e61"
      },
      "execution_count": 41,
      "outputs": [
        {
          "output_type": "stream",
          "name": "stdout",
          "text": [
            "Original 3D Array: [[[52 35 99 12 91]\n",
            "  [96 95 57 27 95]\n",
            "  [82 88 27 59 18]\n",
            "  [34 76 46 10 64]]\n",
            "\n",
            " [[48 28 70 20 79]\n",
            "  [73 41 88 15 60]\n",
            "  [44 32 17  9 85]\n",
            "  [96 31 55 52 31]]\n",
            "\n",
            " [[26 74 61 51 11]\n",
            "  [88 14 22 98 79]\n",
            "  [70 97 44 18 94]\n",
            "  [73 97 88 82 69]]]\n",
            "\n",
            "second layer:  [[48 28 70 20 79]\n",
            " [73 41 88 15 60]\n",
            " [44 32 17  9 85]\n",
            " [96 31 55 52 31]]\n",
            "\n",
            "First two rows and last three columns from each layer:\n",
            "[[[99 12 91]\n",
            "  [57 27 95]]\n",
            "\n",
            " [[70 20 79]\n",
            "  [88 15 60]]\n",
            "\n",
            " [[61 51 11]\n",
            "  [22 98 79]]]\n",
            "\n",
            " replaced array : [[[52 35 -1 -1 91]\n",
            "  [-1 95 -1 -1 95]\n",
            "  [82 88 -1 59 -1]\n",
            "  [34 76 46 10 64]]\n",
            "\n",
            " [[-1 28 70 20 79]\n",
            "  [73 41 88 -1 -1]\n",
            "  [44 32 17 -1 85]\n",
            "  [-1 31 55 52 31]]\n",
            "\n",
            " [[26 74 61 -1 11]\n",
            "  [88 14 22 98 79]\n",
            "  [70 97 44 -1 94]\n",
            "  [73 97 88 82 -1]]]\n"
          ]
        }
      ]
    },
    {
      "cell_type": "markdown",
      "source": [
        "# 10. Work with broadcasting and advanced operations in NumPy.\n",
        "Create a NumPy array arr of shape (3, 3) with random integers between  \n",
        "1 and 20. Perform the following:\n",
        "\n",
        "• Subtract the mean of each row from its respective elements (row-wise\n",
        "normalization).\n",
        "\n",
        "• Create a new array by squaring all the elements in arr.\n",
        "\n",
        "• Find the indices of the top 3 maximum values in the entire array."
      ],
      "metadata": {
        "id": "N5qZgXzPVI8a"
      }
    },
    {
      "cell_type": "code",
      "source": [
        "arr = np.random.randint(1, 21, size=(3, 3))\n",
        "print(\" Array is:\",arr)\n",
        "row_mean = arr.mean(axis=1, keepdims=True)\n",
        "org_arr = arr - row_mean\n",
        "print(\"\\nRow-wise Normalized Array:\",org_arr)\n",
        "square_arr = arr ** 2\n",
        "print(\"\\nSquaring array:\",square_arr)\n",
        "top3_indices = np.unravel_index(np.argsort(arr.ravel())[-3:], arr.shape)\n",
        "print(\"\\nIndices of Top 3 Maximum Values:\",top3_indices)\n"
      ],
      "metadata": {
        "colab": {
          "base_uri": "https://localhost:8080/"
        },
        "id": "eno65makVQl_",
        "outputId": "279c6da7-fbc9-40d0-87ff-6533848f5441"
      },
      "execution_count": 44,
      "outputs": [
        {
          "output_type": "stream",
          "name": "stdout",
          "text": [
            " Array is: [[18  1  8]\n",
            " [ 4 18  9]\n",
            " [15 13 18]]\n",
            "\n",
            "Row-wise Normalized Array: [[ 9.         -8.         -1.        ]\n",
            " [-6.33333333  7.66666667 -1.33333333]\n",
            " [-0.33333333 -2.33333333  2.66666667]]\n",
            "\n",
            "Squaring array: [[324   1  64]\n",
            " [ 16 324  81]\n",
            " [225 169 324]]\n",
            "\n",
            "Indices of Top 3 Maximum Values: (array([0, 1, 2]), array([0, 1, 2]))\n"
          ]
        }
      ]
    }
  ]
}
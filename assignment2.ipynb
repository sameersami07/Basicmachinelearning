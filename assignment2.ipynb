{
  "nbformat": 4,
  "nbformat_minor": 0,
  "metadata": {
    "colab": {
      "provenance": [],
      "authorship_tag": "ABX9TyNiHLvRYeJnT8bPT6MLmEEx",
      "include_colab_link": true
    },
    "kernelspec": {
      "name": "python3",
      "display_name": "Python 3"
    },
    "language_info": {
      "name": "python"
    }
  },
  "cells": [
    {
      "cell_type": "markdown",
      "metadata": {
        "id": "view-in-github",
        "colab_type": "text"
      },
      "source": [
        "<a href=\"https://colab.research.google.com/github/sameersami07/Basicmachinelearning/blob/main/assignment2.ipynb\" target=\"_parent\"><img src=\"https://colab.research.google.com/assets/colab-badge.svg\" alt=\"Open In Colab\"/></a>"
      ]
    },
    {
      "cell_type": "markdown",
      "source": [
        "# 1.Create a Pandas DataFrame from the following dictionary:\n",
        "data = {\n",
        " 'Name': ['Alice', 'Bob', 'Carol'],\n",
        " 'Age': [24, 27, 22],\n",
        " 'Salary': [50000, 55000, 48000]\n",
        "}\n",
        "\n",
        "• Add a new column called Bonus which is 10% of the salary."
      ],
      "metadata": {
        "id": "V3OREExFD-uQ"
      }
    },
    {
      "cell_type": "code",
      "source": [
        "import pandas as pd\n",
        "data = {\n",
        "    'Name': ['Alice', 'Bob', 'Carol'],\n",
        "    'Age': [24, 27, 22],\n",
        "    'Salary': [50000, 55000, 48000]\n",
        "}\n",
        "df=pd.DataFrame(data)\n",
        "df['Bonus']=df['Salary']*0.10\n",
        "print(df)\n"
      ],
      "metadata": {
        "colab": {
          "base_uri": "https://localhost:8080/"
        },
        "id": "Mk0y7EmZEEhE",
        "outputId": "d57cb4c0-cba3-4279-9f98-4e22fbd757bc"
      },
      "execution_count": null,
      "outputs": [
        {
          "output_type": "stream",
          "name": "stdout",
          "text": [
            "    Name  Age  Salary   Bonus\n",
            "0  Alice   24   50000  5000.0\n",
            "1    Bob   27   55000  5500.0\n",
            "2  Carol   22   48000  4800.0\n"
          ]
        }
      ]
    },
    {
      "cell_type": "markdown",
      "source": [
        "# 2.Given the DataFrame created in the above question:\n",
        "\n",
        "• Display the first two rows.\n",
        "\n",
        "• Compute the mean salary."
      ],
      "metadata": {
        "id": "Znin6wdTFM4U"
      }
    },
    {
      "cell_type": "code",
      "source": [
        "first_two_rows=df.head(2)\n",
        "print(\"first two rows:\")\n",
        "print(first_two_rows)\n",
        "mean_salary=df['Salary'].mean()\n",
        "print(\"\\nmean salary :\",mean_salary)\n"
      ],
      "metadata": {
        "colab": {
          "base_uri": "https://localhost:8080/"
        },
        "id": "f0ph6fUIF14C",
        "outputId": "902a3866-7916-4084-bb94-f206fac7d555"
      },
      "execution_count": null,
      "outputs": [
        {
          "output_type": "stream",
          "name": "stdout",
          "text": [
            "first two rows:\n",
            "    Name  Age  Salary   Bonus\n",
            "0  Alice   24   50000  5000.0\n",
            "1    Bob   27   55000  5500.0\n",
            "\n",
            "mean salary : 51000.0\n"
          ]
        }
      ]
    },
    {
      "cell_type": "markdown",
      "source": [
        " # 3.Using the same DataFrame:\n",
        "\n",
        "• Extract all rows where the Age is greater than 25.\n",
        "\n",
        "• Filter out rows where the Salary is less than 50000"
      ],
      "metadata": {
        "id": "OhKtyY47G53U"
      }
    },
    {
      "cell_type": "code",
      "source": [
        "age_greaterthan25=df[df['Age']>25]\n",
        "print(\"age greater than 25 rows:\")\n",
        "print(age_greaterthan25)\n",
        "sal_lessthan50000=df[df['Salary']<50000]\n",
        "print(\"\\nsalary less than 50000 rows:\")\n",
        "print(sal_lessthan50000)"
      ],
      "metadata": {
        "colab": {
          "base_uri": "https://localhost:8080/"
        },
        "id": "EsDwH4t5HBGl",
        "outputId": "57977c3b-c396-4a58-d0ab-9e252cc4288c"
      },
      "execution_count": null,
      "outputs": [
        {
          "output_type": "stream",
          "name": "stdout",
          "text": [
            "age greater than 25 rows:\n",
            "  Name  Age  Salary   Bonus\n",
            "1  Bob   27   55000  5500.0\n",
            "\n",
            "salary less than 50000 rows:\n",
            "    Name  Age  Salary   Bonus\n",
            "2  Carol   22   48000  4800.0\n"
          ]
        }
      ]
    },
    {
      "cell_type": "markdown",
      "source": [
        "#4. Create the following DataFrame:\n",
        "data = {\n",
        " 'A': [1, 2, None, 4],\n",
        " 'B': [None, 2, 3, None],\n",
        " 'C': [1, 2, 3, 4]\n",
        "}\n",
        "df = pd.DataFrame(data)\n",
        "\n",
        "• Fill missing values in column A with the mean of the column.\n",
        "\n",
        "• Drop rows where all values are None.\n"
      ],
      "metadata": {
        "id": "hKhyUL_6IjHj"
      }
    },
    {
      "cell_type": "code",
      "source": [
        "data = {\n",
        "    'A': [1, 2, None, 4],\n",
        "    'B': [None, 2, 3, None],\n",
        "    'C': [1, 2, 3, 4]\n",
        "}\n",
        "df = pd.DataFrame(data)\n",
        "df.fillna({'A': df['A'].mean()}, inplace=True)\n",
        "df_dropped=df.dropna(how='all')\n",
        "print(\"DataFrame after filling missing values in column A:\")\n",
        "print(df)\n",
        "print(\"\\nDataFrame after dropping rows where all values are None:\")\n",
        "print(df_dropped)\n"
      ],
      "metadata": {
        "colab": {
          "base_uri": "https://localhost:8080/"
        },
        "id": "r5-V09T9Ivzx",
        "outputId": "dcec2f65-ac79-488d-fc92-9d754bf9666c"
      },
      "execution_count": null,
      "outputs": [
        {
          "output_type": "stream",
          "name": "stdout",
          "text": [
            "DataFrame after filling missing values in column A:\n",
            "          A    B  C\n",
            "0  1.000000  NaN  1\n",
            "1  2.000000  2.0  2\n",
            "2  2.333333  3.0  3\n",
            "3  4.000000  NaN  4\n",
            "\n",
            "DataFrame after dropping rows where all values are None:\n",
            "          A    B  C\n",
            "0  1.000000  NaN  1\n",
            "1  2.000000  2.0  2\n",
            "2  2.333333  3.0  3\n",
            "3  4.000000  NaN  4\n"
          ]
        }
      ]
    },
    {
      "cell_type": "markdown",
      "source": [
        "# 5. Create a DataFrame for employees:\n",
        "data = {\n",
        " 'Department': ['HR', 'HR', 'IT', 'IT', 'Finance'],\n",
        " 'Employee': ['Alice', 'Bob', 'Carol', 'David', 'Eve'],\n",
        " 'Salary': [50000, 45000, 60000, 65000, 70000]\n",
        "}\n",
        "\n",
        "• Group the data by Department and compute the total and mean salary for each\n",
        "department."
      ],
      "metadata": {
        "id": "VhcT2URxK345"
      }
    },
    {
      "cell_type": "code",
      "source": [
        "data = {\n",
        "    'Department': ['HR', 'HR', 'IT', 'IT', 'Finance'],\n",
        "    'Employee': ['Alice', 'Bob', 'Carol', 'David', 'Eve'],\n",
        "    'Salary': [50000, 45000, 60000, 65000, 70000]\n",
        "}\n",
        "df = pd.DataFrame(data)\n",
        "grouped=df.groupby('Department')['Salary'].agg(['sum','mean']).rename(columns={'sum':'Total Salary','mean':'Mean Salary'})\n",
        "print(grouped)"
      ],
      "metadata": {
        "colab": {
          "base_uri": "https://localhost:8080/"
        },
        "id": "PHhxVuLrLNpZ",
        "outputId": "3c1b0b0d-9d24-4bf1-c617-25f0af985396"
      },
      "execution_count": null,
      "outputs": [
        {
          "output_type": "stream",
          "name": "stdout",
          "text": [
            "            Total Salary  Mean Salary\n",
            "Department                           \n",
            "Finance            70000      70000.0\n",
            "HR                 95000      47500.0\n",
            "IT                125000      62500.0\n"
          ]
        }
      ]
    },
    {
      "cell_type": "markdown",
      "source": [
        "#6. Given two DataFrames:\n",
        "df1 = pd.DataFrame({'ID': [1, 2, 3], 'Name': ['Alice', 'Bob', 'Carol']})\n",
        "\n",
        "df2 = pd.DataFrame({'ID': [2, 3, 4], 'Age': [25, 30, 22]})\n",
        "\n",
        "• Perform an inner join on the ID column."
      ],
      "metadata": {
        "id": "Z052SDfbNHSC"
      }
    },
    {
      "cell_type": "code",
      "source": [
        "df1 = pd.DataFrame({'ID': [1, 2, 3], 'Name': ['Alice', 'Bob', 'Carol']})\n",
        "df2 = pd.DataFrame({'ID': [2, 3, 4], 'Age': [25, 30, 22]})\n",
        "inner_df=pd.merge(df1,df2,on='ID',how='inner')\n",
        "print(inner_df)\n"
      ],
      "metadata": {
        "colab": {
          "base_uri": "https://localhost:8080/"
        },
        "id": "CDY6IKVzNQ1f",
        "outputId": "d4356116-c453-4fc5-8d8a-61dfba86b7ed"
      },
      "execution_count": null,
      "outputs": [
        {
          "output_type": "stream",
          "name": "stdout",
          "text": [
            "   ID   Name  Age\n",
            "0   2    Bob   25\n",
            "1   3  Carol   30\n"
          ]
        }
      ]
    },
    {
      "cell_type": "markdown",
      "source": [
        "#7. Given a small dataset, clean and display basic statistics using Pandas."
      ],
      "metadata": {
        "id": "3kxfXcicOB2L"
      }
    },
    {
      "cell_type": "code",
      "source": [
        "data = {\n",
        "    'Name': ['Alice', 'Bob', 'Carol', 'David', 'Eve'],\n",
        "    'Age': [24, 27, None, 22, 30],\n",
        "    'Salary': [50000, 55000, 48000, None, 70000]\n",
        "}\n",
        "df = pd.DataFrame(data)\n",
        "df.fillna({'Age': df['Age'].mean(), 'Salary': df['Salary'].mean()}, inplace=True)\n",
        "df.dropna(subset=['Name'], inplace=True)\n",
        "statistics = df.describe()\n",
        "print(\"Cleaned DataFrame:\")\n",
        "print(df)\n",
        "\n",
        "print(\"\\nBasic Statistics:\")\n",
        "print(statistics)"
      ],
      "metadata": {
        "colab": {
          "base_uri": "https://localhost:8080/"
        },
        "id": "oMD-4EV3OFR_",
        "outputId": "2bf59980-240a-4d21-e68d-fec0d454e80f"
      },
      "execution_count": null,
      "outputs": [
        {
          "output_type": "stream",
          "name": "stdout",
          "text": [
            "Cleaned DataFrame:\n",
            "    Name    Age   Salary\n",
            "0  Alice  24.00  50000.0\n",
            "1    Bob  27.00  55000.0\n",
            "2  Carol  25.75  48000.0\n",
            "3  David  22.00  55750.0\n",
            "4    Eve  30.00  70000.0\n",
            "\n",
            "Basic Statistics:\n",
            "             Age        Salary\n",
            "count   5.000000      5.000000\n",
            "mean   25.750000  55750.000000\n",
            "std     3.031089   8613.216588\n",
            "min    22.000000  48000.000000\n",
            "25%    24.000000  50000.000000\n",
            "50%    25.750000  55000.000000\n",
            "75%    27.000000  55750.000000\n",
            "max    30.000000  70000.000000\n"
          ]
        }
      ]
    },
    {
      "cell_type": "markdown",
      "source": [
        "# 8. small EDA task\n",
        "• Load the Titanic dataset (titanic.csv) into a Pandas DataFrame.\n",
        "\n",
        "• Perform the following tasks:\n",
        "\n",
        "o Display the number of missing values in each column.\n",
        "\n",
        "o Find the average age of passengers.\n",
        "\n",
        "o Create a bar plot to show the survival rate based on gender.\n"
      ],
      "metadata": {
        "id": "lsVuccxx85K6"
      }
    },
    {
      "cell_type": "markdown",
      "source": [],
      "metadata": {
        "id": "7GdOpKo185Dg"
      }
    },
    {
      "cell_type": "code",
      "source": [
        "import pandas as pd\n",
        "import matplotlib.pyplot as plt\n",
        "file_path = '/content/Titanic-Dataset.csv'\n",
        "titanic_df = pd.read_csv(file_path)\n",
        "missing_values = titanic_df.isnull().sum()\n",
        "average_age = titanic_df['Age'].mean()\n",
        "survival_rate_by_gender = titanic_df.groupby('Sex')['Survived'].mean()\n",
        "plt.figure(figsize=(8, 5))\n",
        "survival_rate_by_gender.plot(kind='bar', color=['skyblue', 'lightgreen'], alpha=0.8)\n",
        "plt.title('Survival Rate by Gender')\n",
        "plt.xlabel('Gender')\n",
        "plt.ylabel('Survival Rate')\n",
        "plt.xticks(rotation=0)\n",
        "plt.ylim(0, 1)\n",
        "plt.grid(axis='y', linestyle='--', alpha=0.7)\n",
        "plt.show()\n",
        "\n",
        "missing_values, average_age\n"
      ],
      "metadata": {
        "colab": {
          "base_uri": "https://localhost:8080/",
          "height": 730
        },
        "id": "VtOoRr3g9B1b",
        "outputId": "9a43603f-6f7b-45bf-b5ee-fd4bac67d872"
      },
      "execution_count": 2,
      "outputs": [
        {
          "output_type": "display_data",
          "data": {
            "text/plain": [
              "<Figure size 800x500 with 1 Axes>"
            ],
            "image/png": "[encoded data removed]"
          },
          "metadata": {}
        },
        {
          "output_type": "execute_result",
          "data": {
            "text/plain": [
              "(PassengerId      0\n",
              " Survived         0\n",
              " Pclass           0\n",
              " Name             0\n",
              " Sex              0\n",
              " Age            177\n",
              " SibSp            0\n",
              " Parch            0\n",
              " Ticket           0\n",
              " Fare             0\n",
              " Cabin          687\n",
              " Embarked         2\n",
              " dtype: int64,\n",
              " 29.69911764705882)"
            ]
          },
          "metadata": {},
          "execution_count": 2
        }
      ]
    },
    {
      "cell_type": "markdown",
      "source": [
        "#9. Data Transformation\n",
        "• Load a dataset containing daily temperatures and dates. Perform the following:\n",
        "\n",
        "o Convert the date column into a DateTime object.\n",
        "\n",
        "o Create a new column that categorizes temperatures into High, Medium, or\n",
        "Low."
      ],
      "metadata": {
        "id": "or1jVInN-PiI"
      }
    },
    {
      "cell_type": "code",
      "source": [
        "data = {\n",
        "    'Date': ['2023-01-01', '2023-01-02', '2023-01-03', '2023-01-04'],\n",
        "    'Temperature': [30, 22, 15, 10]\n",
        "}\n",
        "temp_df = pd.DataFrame(data)\n",
        "temp_df['Date'] = pd.to_datetime(temp_df['Date'])\n",
        "def categorize_temperature(temp):\n",
        "    if temp > 25:\n",
        "        return 'High'\n",
        "    elif 15 <= temp <= 25:\n",
        "        return 'Medium'\n",
        "    else:\n",
        "        return 'Low'\n",
        "\n",
        "temp_df['Temperature_Category'] = temp_df['Temperature'].apply(categorize_temperature)\n",
        "temp_df"
      ],
      "metadata": {
        "colab": {
          "base_uri": "https://localhost:8080/",
          "height": 175
        },
        "id": "i6U_Rocc-d-U",
        "outputId": "45745525-914f-4324-d89a-576a2b299da2"
      },
      "execution_count": 4,
      "outputs": [
        {
          "output_type": "execute_result",
          "data": {
            "text/plain": [
              "        Date  Temperature Temperature_Category\n",
              "0 2023-01-01           30                 High\n",
              "1 2023-01-02           22               Medium\n",
              "2 2023-01-03           15               Medium\n",
              "3 2023-01-04           10                  Low"
            ],
            "text/html": [
              "\n",
              "  <div id=\"df-42b25fae-63ed-4eca-8317-699532ad2127\" class=\"colab-df-container\">\n",
              "    <div>\n",
              "<style scoped>\n",
              "    .dataframe tbody tr th:only-of-type {\n",
              "        vertical-align: middle;\n",
              "    }\n",
              "\n",
              "    .dataframe tbody tr th {\n",
              "        vertical-align: top;\n",
              "    }\n",
              "\n",
              "    .dataframe thead th {\n",
              "        text-align: right;\n",
              "    }\n",
              "</style>\n",
              "<table border=\"1\" class=\"dataframe\">\n",
              "  <thead>\n",
              "    <tr style=\"text-align: right;\">\n",
              "      <th></th>\n",
              "      <th>Date</th>\n",
              "      <th>Temperature</th>\n",
              "      <th>Temperature_Category</th>\n",
              "    </tr>\n",
              "  </thead>\n",
              "  <tbody>\n",
              "    <tr>\n",
              "      <th>0</th>\n",
              "      <td>2023-01-01</td>\n",
              "      <td>30</td>\n",
              "      <td>High</td>\n",
              "    </tr>\n",
              "    <tr>\n",
              "      <th>1</th>\n",
              "      <td>2023-01-02</td>\n",
              "      <td>22</td>\n",
              "      <td>Medium</td>\n",
              "    </tr>\n",
              "    <tr>\n",
              "      <th>2</th>\n",
              "      <td>2023-01-03</td>\n",
              "      <td>15</td>\n",
              "      <td>Medium</td>\n",
              "    </tr>\n",
              "    <tr>\n",
              "      <th>3</th>\n",
              "      <td>2023-01-04</td>\n",
              "      <td>10</td>\n",
              "      <td>Low</td>\n",
              "    </tr>\n",
              "  </tbody>\n",
              "</table>\n",
              "</div>\n",
              "    <div class=\"colab-df-buttons\">\n",
              "\n",
              "  <div class=\"colab-df-container\">\n",
              "    <button class=\"colab-df-convert\" onclick=\"convertToInteractive('df-42b25fae-63ed-4eca-8317-699532ad2127')\"\n",
              "            title=\"Convert this dataframe to an interactive table.\"\n",
              "            style=\"display:none;\">\n",
              "\n",
              "  <svg xmlns=\"http://www.w3.org/2000/svg\" height=\"24px\" viewBox=\"0 -960 960 960\">\n",
              "    <path d=\"M120-120v-720h720v720H120Zm60-500h600v-160H180v160Zm220 220h160v-160H400v160Zm0 220h160v-160H400v160ZM180-400h160v-160H180v160Zm440 0h160v-160H620v160ZM180-180h160v-160H180v160Zm440 0h160v-160H620v160Z\"/>\n",
              "  </svg>\n",
              "    </button>\n",
              "\n",
              "  <style>\n",
              "    .colab-df-container {\n",
              "      display:flex;\n",
              "      gap: 12px;\n",
              "    }\n",
              "\n",
              "    .colab-df-convert {\n",
              "      background-color: #E8F0FE;\n",
              "      border: none;\n",
              "      border-radius: 50%;\n",
              "      cursor: pointer;\n",
              "      display: none;\n",
              "      fill: #1967D2;\n",
              "      height: 32px;\n",
              "      padding: 0 0 0 0;\n",
              "      width: 32px;\n",
              "    }\n",
              "\n",
              "    .colab-df-convert:hover {\n",
              "      background-color: #E2EBFA;\n",
              "      box-shadow: 0px 1px 2px rgba(60, 64, 67, 0.3), 0px 1px 3px 1px rgba(60, 64, 67, 0.15);\n",
              "      fill: #174EA6;\n",
              "    }\n",
              "\n",
              "    .colab-df-buttons div {\n",
              "      margin-bottom: 4px;\n",
              "    }\n",
              "\n",
              "    [theme=dark] .colab-df-convert {\n",
              "      background-color: #3B4455;\n",
              "      fill: #D2E3FC;\n",
              "    }\n",
              "\n",
              "    [theme=dark] .colab-df-convert:hover {\n",
              "      background-color: #434B5C;\n",
              "      box-shadow: 0px 1px 3px 1px rgba(0, 0, 0, 0.15);\n",
              "      filter: drop-shadow(0px 1px 2px rgba(0, 0, 0, 0.3));\n",
              "      fill: #FFFFFF;\n",
              "    }\n",
              "  </style>\n",
              "\n",
              "    <script>\n",
              "      const buttonEl =\n",
              "        document.querySelector('#df-42b25fae-63ed-4eca-8317-699532ad2127 button.colab-df-convert');\n",
              "      buttonEl.style.display =\n",
              "        google.colab.kernel.accessAllowed ? 'block' : 'none';\n",
              "\n",
              "      async function convertToInteractive(key) {\n",
              "        const element = document.querySelector('#df-42b25fae-63ed-4eca-8317-699532ad2127');\n",
              "        const dataTable =\n",
              "          await google.colab.kernel.invokeFunction('convertToInteractive',\n",
              "                                                    [key], {});\n",
              "        if (!dataTable) return;\n",
              "\n",
              "        const docLinkHtml = 'Like what you see? Visit the ' +\n",
              "          '<a target=\"_blank\" href=https://colab.research.google.com/notebooks/data_table.ipynb>data table notebook</a>'\n",
              "          + ' to learn more about interactive tables.';\n",
              "        element.innerHTML = '';\n",
              "        dataTable['output_type'] = 'display_data';\n",
              "        await google.colab.output.renderOutput(dataTable, element);\n",
              "        const docLink = document.createElement('div');\n",
              "        docLink.innerHTML = docLinkHtml;\n",
              "        element.appendChild(docLink);\n",
              "      }\n",
              "    </script>\n",
              "  </div>\n",
              "\n",
              "\n",
              "<div id=\"df-72267500-9134-46d6-be6d-63326723cc3b\">\n",
              "  <button class=\"colab-df-quickchart\" onclick=\"quickchart('df-72267500-9134-46d6-be6d-63326723cc3b')\"\n",
              "            title=\"Suggest charts\"\n",
              "            style=\"display:none;\">\n",
              "\n",
              "<svg xmlns=\"http://www.w3.org/2000/svg\" height=\"24px\"viewBox=\"0 0 24 24\"\n",
              "     width=\"24px\">\n",
              "    <g>\n",
              "        <path d=\"M19 3H5c-1.1 0-2 .9-2 2v14c0 1.1.9 2 2 2h14c1.1 0 2-.9 2-2V5c0-1.1-.9-2-2-2zM9 17H7v-7h2v7zm4 0h-2V7h2v10zm4 0h-2v-4h2v4z\"/>\n",
              "    </g>\n",
              "</svg>\n",
              "  </button>\n",
              "\n",
              "<style>\n",
              "  .colab-df-quickchart {\n",
              "      --bg-color: #E8F0FE;\n",
              "      --fill-color: #1967D2;\n",
              "      --hover-bg-color: #E2EBFA;\n",
              "      --hover-fill-color: #174EA6;\n",
              "      --disabled-fill-color: #AAA;\n",
              "      --disabled-bg-color: #DDD;\n",
              "  }\n",
              "\n",
              "  [theme=dark] .colab-df-quickchart {\n",
              "      --bg-color: #3B4455;\n",
              "      --fill-color: #D2E3FC;\n",
              "      --hover-bg-color: #434B5C;\n",
              "      --hover-fill-color: #FFFFFF;\n",
              "      --disabled-bg-color: #3B4455;\n",
              "      --disabled-fill-color: #666;\n",
              "  }\n",
              "\n",
              "  .colab-df-quickchart {\n",
              "    background-color: var(--bg-color);\n",
              "    border: none;\n",
              "    border-radius: 50%;\n",
              "    cursor: pointer;\n",
              "    display: none;\n",
              "    fill: var(--fill-color);\n",
              "    height: 32px;\n",
              "    padding: 0;\n",
              "    width: 32px;\n",
              "  }\n",
              "\n",
              "  .colab-df-quickchart:hover {\n",
              "    background-color: var(--hover-bg-color);\n",
              "    box-shadow: 0 1px 2px rgba(60, 64, 67, 0.3), 0 1px 3px 1px rgba(60, 64, 67, 0.15);\n",
              "    fill: var(--button-hover-fill-color);\n",
              "  }\n",
              "\n",
              "  .colab-df-quickchart-complete:disabled,\n",
              "  .colab-df-quickchart-complete:disabled:hover {\n",
              "    background-color: var(--disabled-bg-color);\n",
              "    fill: var(--disabled-fill-color);\n",
              "    box-shadow: none;\n",
              "  }\n",
              "\n",
              "  .colab-df-spinner {\n",
              "    border: 2px solid var(--fill-color);\n",
              "    border-color: transparent;\n",
              "    border-bottom-color: var(--fill-color);\n",
              "    animation:\n",
              "      spin 1s steps(1) infinite;\n",
              "  }\n",
              "\n",
              "  @keyframes spin {\n",
              "    0% {\n",
              "      border-color: transparent;\n",
              "      border-bottom-color: var(--fill-color);\n",
              "      border-left-color: var(--fill-color);\n",
              "    }\n",
              "    20% {\n",
              "      border-color: transparent;\n",
              "      border-left-color: var(--fill-color);\n",
              "      border-top-color: var(--fill-color);\n",
              "    }\n",
              "    30% {\n",
              "      border-color: transparent;\n",
              "      border-left-color: var(--fill-color);\n",
              "      border-top-color: var(--fill-color);\n",
              "      border-right-color: var(--fill-color);\n",
              "    }\n",
              "    40% {\n",
              "      border-color: transparent;\n",
              "      border-right-color: var(--fill-color);\n",
              "      border-top-color: var(--fill-color);\n",
              "    }\n",
              "    60% {\n",
              "      border-color: transparent;\n",
              "      border-right-color: var(--fill-color);\n",
              "    }\n",
              "    80% {\n",
              "      border-color: transparent;\n",
              "      border-right-color: var(--fill-color);\n",
              "      border-bottom-color: var(--fill-color);\n",
              "    }\n",
              "    90% {\n",
              "      border-color: transparent;\n",
              "      border-bottom-color: var(--fill-color);\n",
              "    }\n",
              "  }\n",
              "</style>\n",
              "\n",
              "  <script>\n",
              "    async function quickchart(key) {\n",
              "      const quickchartButtonEl =\n",
              "        document.querySelector('#' + key + ' button');\n",
              "      quickchartButtonEl.disabled = true;  // To prevent multiple clicks.\n",
              "      quickchartButtonEl.classList.add('colab-df-spinner');\n",
              "      try {\n",
              "        const charts = await google.colab.kernel.invokeFunction(\n",
              "            'suggestCharts', [key], {});\n",
              "      } catch (error) {\n",
              "        console.error('Error during call to suggestCharts:', error);\n",
              "      }\n",
              "      quickchartButtonEl.classList.remove('colab-df-spinner');\n",
              "      quickchartButtonEl.classList.add('colab-df-quickchart-complete');\n",
              "    }\n",
              "    (() => {\n",
              "      let quickchartButtonEl =\n",
              "        document.querySelector('#df-72267500-9134-46d6-be6d-63326723cc3b button');\n",
              "      quickchartButtonEl.style.display =\n",
              "        google.colab.kernel.accessAllowed ? 'block' : 'none';\n",
              "    })();\n",
              "  </script>\n",
              "</div>\n",
              "\n",
              "  <div id=\"id_92081eb3-b6f9-4895-a039-ae2d6bf221d8\">\n",
              "    <style>\n",
              "      .colab-df-generate {\n",
              "        background-color: #E8F0FE;\n",
              "        border: none;\n",
              "        border-radius: 50%;\n",
              "        cursor: pointer;\n",
              "        display: none;\n",
              "        fill: #1967D2;\n",
              "        height: 32px;\n",
              "        padding: 0 0 0 0;\n",
              "        width: 32px;\n",
              "      }\n",
              "\n",
              "      .colab-df-generate:hover {\n",
              "        background-color: #E2EBFA;\n",
              "        box-shadow: 0px 1px 2px rgba(60, 64, 67, 0.3), 0px 1px 3px 1px rgba(60, 64, 67, 0.15);\n",
              "        fill: #174EA6;\n",
              "      }\n",
              "\n",
              "      [theme=dark] .colab-df-generate {\n",
              "        background-color: #3B4455;\n",
              "        fill: #D2E3FC;\n",
              "      }\n",
              "\n",
              "      [theme=dark] .colab-df-generate:hover {\n",
              "        background-color: #434B5C;\n",
              "        box-shadow: 0px 1px 3px 1px rgba(0, 0, 0, 0.15);\n",
              "        filter: drop-shadow(0px 1px 2px rgba(0, 0, 0, 0.3));\n",
              "        fill: #FFFFFF;\n",
              "      }\n",
              "    </style>\n",
              "    <button class=\"colab-df-generate\" onclick=\"generateWithVariable('temp_df')\"\n",
              "            title=\"Generate code using this dataframe.\"\n",
              "            style=\"display:none;\">\n",
              "\n",
              "  <svg xmlns=\"http://www.w3.org/2000/svg\" height=\"24px\"viewBox=\"0 0 24 24\"\n",
              "       width=\"24px\">\n",
              "    <path d=\"M7,19H8.4L18.45,9,17,7.55,7,17.6ZM5,21V16.75L18.45,3.32a2,2,0,0,1,2.83,0l1.4,1.43a1.91,1.91,0,0,1,.58,1.4,1.91,1.91,0,0,1-.58,1.4L9.25,21ZM18.45,9,17,7.55Zm-12,3A5.31,5.31,0,0,0,4.9,8.1,5.31,5.31,0,0,0,1,6.5,5.31,5.31,0,0,0,4.9,4.9,5.31,5.31,0,0,0,6.5,1,5.31,5.31,0,0,0,8.1,4.9,5.31,5.31,0,0,0,12,6.5,5.46,5.46,0,0,0,6.5,12Z\"/>\n",
              "  </svg>\n",
              "    </button>\n",
              "    <script>\n",
              "      (() => {\n",
              "      const buttonEl =\n",
              "        document.querySelector('#id_92081eb3-b6f9-4895-a039-ae2d6bf221d8 button.colab-df-generate');\n",
              "      buttonEl.style.display =\n",
              "        google.colab.kernel.accessAllowed ? 'block' : 'none';\n",
              "\n",
              "      buttonEl.onclick = () => {\n",
              "        google.colab.notebook.generateWithVariable('temp_df');\n",
              "      }\n",
              "      })();\n",
              "    </script>\n",
              "  </div>\n",
              "\n",
              "    </div>\n",
              "  </div>\n"
            ],
            "application/vnd.google.colaboratory.intrinsic+json": {
              "type": "dataframe",
              "variable_name": "temp_df",
              "summary": "{\n  \"name\": \"temp_df\",\n  \"rows\": 4,\n  \"fields\": [\n    {\n      \"column\": \"Date\",\n      \"properties\": {\n        \"dtype\": \"date\",\n        \"min\": \"2023-01-01 00:00:00\",\n        \"max\": \"2023-01-04 00:00:00\",\n        \"num_unique_values\": 4,\n        \"samples\": [\n          \"2023-01-02 00:00:00\",\n          \"2023-01-04 00:00:00\",\n          \"2023-01-01 00:00:00\"\n        ],\n        \"semantic_type\": \"\",\n        \"description\": \"\"\n      }\n    },\n    {\n      \"column\": \"Temperature\",\n      \"properties\": {\n        \"dtype\": \"number\",\n        \"std\": 8,\n        \"min\": 10,\n        \"max\": 30,\n        \"num_unique_values\": 4,\n        \"samples\": [\n          22,\n          10,\n          30\n        ],\n        \"semantic_type\": \"\",\n        \"description\": \"\"\n      }\n    },\n    {\n      \"column\": \"Temperature_Category\",\n      \"properties\": {\n        \"dtype\": \"string\",\n        \"num_unique_values\": 3,\n        \"samples\": [\n          \"High\",\n          \"Medium\",\n          \"Low\"\n        ],\n        \"semantic_type\": \"\",\n        \"description\": \"\"\n      }\n    }\n  ]\n}"
            }
          },
          "metadata": {},
          "execution_count": 4
        }
      ]
    }
  ]
}
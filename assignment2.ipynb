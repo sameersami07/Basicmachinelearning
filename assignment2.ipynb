{
  "nbformat": 4,
  "nbformat_minor": 0,
  "metadata": {
    "colab": {
      "provenance": [],
      "authorship_tag": "ABX9TyOyqkrziM0saTqf+gNENQJM",
      "include_colab_link": true
    },
    "kernelspec": {
      "name": "python3",
      "display_name": "Python 3"
    },
    "language_info": {
      "name": "python"
    }
  },
  "cells": [
    {
      "cell_type": "markdown",
      "metadata": {
        "id": "view-in-github",
        "colab_type": "text"
      },
      "source": [
        "<a href=\"https://colab.research.google.com/github/sameersami07/Basicmachinelearning/blob/main/assignment2.ipynb\" target=\"_parent\"><img src=\"https://colab.research.google.com/assets/colab-badge.svg\" alt=\"Open In Colab\"/></a>"
      ]
    },
    {
      "cell_type": "markdown",
      "source": [
        "# 1.Create a Pandas DataFrame from the following dictionary:\n",
        "data = {\n",
        " 'Name': ['Alice', 'Bob', 'Carol'],\n",
        " 'Age': [24, 27, 22],\n",
        " 'Salary': [50000, 55000, 48000]\n",
        "}\n",
        "\n",
        "• Add a new column called Bonus which is 10% of the salary."
      ],
      "metadata": {
        "id": "V3OREExFD-uQ"
      }
    },
    {
      "cell_type": "code",
      "source": [
        "import pandas as pd\n",
        "data = {\n",
        "    'Name': ['Alice', 'Bob', 'Carol'],\n",
        "    'Age': [24, 27, 22],\n",
        "    'Salary': [50000, 55000, 48000]\n",
        "}\n",
        "df=pd.DataFrame(data)\n",
        "df['Bonus']=df['Salary']*0.10\n",
        "print(df)\n"
      ],
      "metadata": {
        "colab": {
          "base_uri": "https://localhost:8080/"
        },
        "id": "Mk0y7EmZEEhE",
        "outputId": "d57cb4c0-cba3-4279-9f98-4e22fbd757bc"
      },
      "execution_count": 3,
      "outputs": [
        {
          "output_type": "stream",
          "name": "stdout",
          "text": [
            "    Name  Age  Salary   Bonus\n",
            "0  Alice   24   50000  5000.0\n",
            "1    Bob   27   55000  5500.0\n",
            "2  Carol   22   48000  4800.0\n"
          ]
        }
      ]
    },
    {
      "cell_type": "markdown",
      "source": [
        "# 2.Given the DataFrame created in the above question:\n",
        "\n",
        "• Display the first two rows.\n",
        "\n",
        "• Compute the mean salary."
      ],
      "metadata": {
        "id": "Znin6wdTFM4U"
      }
    },
    {
      "cell_type": "code",
      "source": [
        "first_two_rows=df.head(2)\n",
        "print(\"first two rows:\")\n",
        "print(first_two_rows)\n",
        "mean_salary=df['Salary'].mean()\n",
        "print(\"\\nmean salary :\",mean_salary)\n"
      ],
      "metadata": {
        "colab": {
          "base_uri": "https://localhost:8080/"
        },
        "id": "f0ph6fUIF14C",
        "outputId": "902a3866-7916-4084-bb94-f206fac7d555"
      },
      "execution_count": 6,
      "outputs": [
        {
          "output_type": "stream",
          "name": "stdout",
          "text": [
            "first two rows:\n",
            "    Name  Age  Salary   Bonus\n",
            "0  Alice   24   50000  5000.0\n",
            "1    Bob   27   55000  5500.0\n",
            "\n",
            "mean salary : 51000.0\n"
          ]
        }
      ]
    },
    {
      "cell_type": "markdown",
      "source": [
        " # 3.Using the same DataFrame:\n",
        "\n",
        "• Extract all rows where the Age is greater than 25.\n",
        "\n",
        "• Filter out rows where the Salary is less than 50000"
      ],
      "metadata": {
        "id": "OhKtyY47G53U"
      }
    },
    {
      "cell_type": "code",
      "source": [
        "age_greaterthan25=df[df['Age']>25]\n",
        "print(\"age greater than 25 rows:\")\n",
        "print(age_greaterthan25)\n",
        "sal_lessthan50000=df[df['Salary']<50000]\n",
        "print(\"\\nsalary less than 50000 rows:\")\n",
        "print(sal_lessthan50000)"
      ],
      "metadata": {
        "colab": {
          "base_uri": "https://localhost:8080/"
        },
        "id": "EsDwH4t5HBGl",
        "outputId": "57977c3b-c396-4a58-d0ab-9e252cc4288c"
      },
      "execution_count": 7,
      "outputs": [
        {
          "output_type": "stream",
          "name": "stdout",
          "text": [
            "age greater than 25 rows:\n",
            "  Name  Age  Salary   Bonus\n",
            "1  Bob   27   55000  5500.0\n",
            "\n",
            "salary less than 50000 rows:\n",
            "    Name  Age  Salary   Bonus\n",
            "2  Carol   22   48000  4800.0\n"
          ]
        }
      ]
    },
    {
      "cell_type": "markdown",
      "source": [
        "#4. Create the following DataFrame:\n",
        "data = {\n",
        " 'A': [1, 2, None, 4],\n",
        " 'B': [None, 2, 3, None],\n",
        " 'C': [1, 2, 3, 4]\n",
        "}\n",
        "df = pd.DataFrame(data)\n",
        "\n",
        "• Fill missing values in column A with the mean of the column.\n",
        "\n",
        "• Drop rows where all values are None.\n"
      ],
      "metadata": {
        "id": "hKhyUL_6IjHj"
      }
    },
    {
      "cell_type": "code",
      "source": [
        "data = {\n",
        "    'A': [1, 2, None, 4],\n",
        "    'B': [None, 2, 3, None],\n",
        "    'C': [1, 2, 3, 4]\n",
        "}\n",
        "df = pd.DataFrame(data)\n",
        "df.fillna({'A': df['A'].mean()}, inplace=True)\n",
        "df_dropped=df.dropna(how='all')\n",
        "print(\"DataFrame after filling missing values in column A:\")\n",
        "print(df)\n",
        "print(\"\\nDataFrame after dropping rows where all values are None:\")\n",
        "print(df_dropped)\n"
      ],
      "metadata": {
        "colab": {
          "base_uri": "https://localhost:8080/"
        },
        "id": "r5-V09T9Ivzx",
        "outputId": "dcec2f65-ac79-488d-fc92-9d754bf9666c"
      },
      "execution_count": 9,
      "outputs": [
        {
          "output_type": "stream",
          "name": "stdout",
          "text": [
            "DataFrame after filling missing values in column A:\n",
            "          A    B  C\n",
            "0  1.000000  NaN  1\n",
            "1  2.000000  2.0  2\n",
            "2  2.333333  3.0  3\n",
            "3  4.000000  NaN  4\n",
            "\n",
            "DataFrame after dropping rows where all values are None:\n",
            "          A    B  C\n",
            "0  1.000000  NaN  1\n",
            "1  2.000000  2.0  2\n",
            "2  2.333333  3.0  3\n",
            "3  4.000000  NaN  4\n"
          ]
        }
      ]
    },
    {
      "cell_type": "markdown",
      "source": [
        "# 5. Create a DataFrame for employees:\n",
        "data = {\n",
        " 'Department': ['HR', 'HR', 'IT', 'IT', 'Finance'],\n",
        " 'Employee': ['Alice', 'Bob', 'Carol', 'David', 'Eve'],\n",
        " 'Salary': [50000, 45000, 60000, 65000, 70000]\n",
        "}\n",
        "\n",
        "• Group the data by Department and compute the total and mean salary for each\n",
        "department."
      ],
      "metadata": {
        "id": "VhcT2URxK345"
      }
    },
    {
      "cell_type": "code",
      "source": [
        "data = {\n",
        "    'Department': ['HR', 'HR', 'IT', 'IT', 'Finance'],\n",
        "    'Employee': ['Alice', 'Bob', 'Carol', 'David', 'Eve'],\n",
        "    'Salary': [50000, 45000, 60000, 65000, 70000]\n",
        "}\n",
        "df = pd.DataFrame(data)\n",
        "grouped=df.groupby('Department')['Salary'].agg(['sum','mean']).rename(columns={'sum':'Total Salary','mean':'Mean Salary'})\n",
        "print(grouped)"
      ],
      "metadata": {
        "colab": {
          "base_uri": "https://localhost:8080/"
        },
        "id": "PHhxVuLrLNpZ",
        "outputId": "3c1b0b0d-9d24-4bf1-c617-25f0af985396"
      },
      "execution_count": 16,
      "outputs": [
        {
          "output_type": "stream",
          "name": "stdout",
          "text": [
            "            Total Salary  Mean Salary\n",
            "Department                           \n",
            "Finance            70000      70000.0\n",
            "HR                 95000      47500.0\n",
            "IT                125000      62500.0\n"
          ]
        }
      ]
    },
    {
      "cell_type": "markdown",
      "source": [
        "#6. Given two DataFrames:\n",
        "df1 = pd.DataFrame({'ID': [1, 2, 3], 'Name': ['Alice', 'Bob', 'Carol']})\n",
        "\n",
        "df2 = pd.DataFrame({'ID': [2, 3, 4], 'Age': [25, 30, 22]})\n",
        "\n",
        "• Perform an inner join on the ID column."
      ],
      "metadata": {
        "id": "Z052SDfbNHSC"
      }
    },
    {
      "cell_type": "code",
      "source": [
        "df1 = pd.DataFrame({'ID': [1, 2, 3], 'Name': ['Alice', 'Bob', 'Carol']})\n",
        "df2 = pd.DataFrame({'ID': [2, 3, 4], 'Age': [25, 30, 22]})\n",
        "inner_df=pd.merge(df1,df2,on='ID',how='inner')\n",
        "print(inner_df)\n"
      ],
      "metadata": {
        "colab": {
          "base_uri": "https://localhost:8080/"
        },
        "id": "CDY6IKVzNQ1f",
        "outputId": "d4356116-c453-4fc5-8d8a-61dfba86b7ed"
      },
      "execution_count": 18,
      "outputs": [
        {
          "output_type": "stream",
          "name": "stdout",
          "text": [
            "   ID   Name  Age\n",
            "0   2    Bob   25\n",
            "1   3  Carol   30\n"
          ]
        }
      ]
    },
    {
      "cell_type": "markdown",
      "source": [
        "#7. Given a small dataset, clean and display basic statistics using Pandas."
      ],
      "metadata": {
        "id": "3kxfXcicOB2L"
      }
    },
    {
      "cell_type": "code",
      "source": [
        "data = {\n",
        "    'Name': ['Alice', 'Bob', 'Carol', 'David', 'Eve'],\n",
        "    'Age': [24, 27, None, 22, 30],\n",
        "    'Salary': [50000, 55000, 48000, None, 70000]\n",
        "}\n",
        "df = pd.DataFrame(data)\n",
        "df.fillna({'Age': df['Age'].mean(), 'Salary': df['Salary'].mean()}, inplace=True)\n",
        "df.dropna(subset=['Name'], inplace=True)\n",
        "statistics = df.describe()\n",
        "print(\"Cleaned DataFrame:\")\n",
        "print(df)\n",
        "\n",
        "print(\"\\nBasic Statistics:\")\n",
        "print(statistics)"
      ],
      "metadata": {
        "colab": {
          "base_uri": "https://localhost:8080/"
        },
        "id": "oMD-4EV3OFR_",
        "outputId": "2bf59980-240a-4d21-e68d-fec0d454e80f"
      },
      "execution_count": 20,
      "outputs": [
        {
          "output_type": "stream",
          "name": "stdout",
          "text": [
            "Cleaned DataFrame:\n",
            "    Name    Age   Salary\n",
            "0  Alice  24.00  50000.0\n",
            "1    Bob  27.00  55000.0\n",
            "2  Carol  25.75  48000.0\n",
            "3  David  22.00  55750.0\n",
            "4    Eve  30.00  70000.0\n",
            "\n",
            "Basic Statistics:\n",
            "             Age        Salary\n",
            "count   5.000000      5.000000\n",
            "mean   25.750000  55750.000000\n",
            "std     3.031089   8613.216588\n",
            "min    22.000000  48000.000000\n",
            "25%    24.000000  50000.000000\n",
            "50%    25.750000  55000.000000\n",
            "75%    27.000000  55750.000000\n",
            "max    30.000000  70000.000000\n"
          ]
        }
      ]
    }
  ]
}